{
  "nbformat": 4,
  "nbformat_minor": 0,
  "metadata": {
    "colab": {
      "provenance": [],
      "gpuType": "T4"
    },
    "kernelspec": {
      "name": "python3",
      "display_name": "Python 3"
    },
    "language_info": {
      "name": "python"
    },
    "accelerator": "GPU"
  },
  "cells": [
    {
      "cell_type": "code",
      "execution_count": 3,
      "metadata": {
        "id": "alLLx0ZplUZI"
      },
      "outputs": [],
      "source": [
        "import torch\n",
        "import torchvision.transforms as transforms\n",
        "from torchvision.datasets import ImageFolder\n",
        "from torch.utils.data import DataLoader, random_split"
      ]
    },
    {
      "cell_type": "code",
      "source": [
        "import os\n",
        "import shutil\n",
        "from sklearn.model_selection import train_test_split\n",
        "\n",
        "# Define paths\n",
        "data_dir = \"/content/drive/MyDrive/Dataset/data\"\n",
        "classes = [\"COVID\", \"NORMAL\", \"PNEUMONIA\"]\n",
        "train_dir = \"/content/drive/MyDrive/Dataset/Train\"\n",
        "test_dir = \"/content/drive/MyDrive/Dataset/Test\"\n",
        "val_dir = \"/content/drive/MyDrive/Dataset/Valid\"\n",
        "\n",
        "# Create directories for train, test, and validation data\n",
        "os.makedirs(train_dir, exist_ok=True)\n",
        "os.makedirs(test_dir, exist_ok=True)\n",
        "os.makedirs(val_dir, exist_ok=True)\n",
        "\n",
        "# Split data into train, test, and validation sets\n",
        "for class_name in classes:\n",
        "    class_dir = os.path.join(data_dir, class_name)\n",
        "    image_files = os.listdir(class_dir)\n",
        "    train_files, test_val_files = train_test_split(image_files, test_size=0.2, random_state=42)\n",
        "    test_files, val_files = train_test_split(test_val_files, test_size=0.5, random_state=42)\n",
        "\n",
        "    # Copy images to appropriate directories\n",
        "    for filename in train_files:\n",
        "        src = os.path.join(class_dir, filename)\n",
        "        dst = os.path.join(train_dir, class_name, filename)\n",
        "        os.makedirs(os.path.dirname(dst), exist_ok=True)\n",
        "        shutil.copyfile(src, dst)\n",
        "\n",
        "    for filename in test_files:\n",
        "        src = os.path.join(class_dir, filename)\n",
        "        dst = os.path.join(test_dir, class_name, filename)\n",
        "        os.makedirs(os.path.dirname(dst), exist_ok=True)\n",
        "        shutil.copyfile(src, dst)\n",
        "\n",
        "    for filename in val_files:\n",
        "        src = os.path.join(class_dir, filename)\n",
        "        dst = os.path.join(val_dir, class_name, filename)\n",
        "        os.makedirs(os.path.dirname(dst), exist_ok=True)\n",
        "        shutil.copyfile(src, dst)\n",
        "\n",
        "print(\"Data splitting and copying completed.\")\n"
      ],
      "metadata": {
        "id": "KNkhc0kpyctu",
        "colab": {
          "base_uri": "https://localhost:8080/"
        },
        "outputId": "feaff25b-7062-4bc9-e2a4-5b859a28b2e2"
      },
      "execution_count": 4,
      "outputs": [
        {
          "output_type": "stream",
          "name": "stdout",
          "text": [
            "Data splitting and copying completed.\n"
          ]
        }
      ]
    },
    {
      "cell_type": "code",
      "source": [
        "import torchvision.transforms as transforms\n",
        "from torchvision.datasets import ImageFolder\n",
        "from torch.utils.data import DataLoader, random_split\n",
        "\n",
        "# Define paths\n",
        "data_dir = \"/content/drive/MyDrive/Dataset\"\n",
        "train_dir = os.path.join(data_dir, \"Train\")\n",
        "val_dir = os.path.join(data_dir, \"Valid\")\n",
        "test_dir = os.path.join(data_dir, \"Test\")\n",
        "\n",
        "# Define transforms\n",
        "transform = transforms.Compose([\n",
        "    transforms.Resize((224, 224)),  # Resize images to 224x224\n",
        "    transforms.ToTensor(),           # Convert images to PyTorch tensors\n",
        "    transforms.Normalize(mean=[0.485, 0.456, 0.406], std=[0.229, 0.224, 0.225])  # Normalize pixel values\n",
        "])\n",
        "\n",
        "# Define transformations including data augmentation\n",
        "train_transform = transforms.Compose([\n",
        "    transforms.RandomRotation(degrees=30),         # Randomly rotate the image up to 30 degrees\n",
        "    transforms.RandomHorizontalFlip(p=0.5),       # Randomly flip the image horizontally with a probability of 0.5\n",
        "    transforms.RandomResizedCrop(224),            # Randomly crop a square patch of size 224\n",
        "    transforms.ColorJitter(brightness=0.2,        # Randomly adjust brightness, contrast, saturation, and hue\n",
        "                           contrast=0.2,\n",
        "                           saturation=0.2,\n",
        "                           hue=0.2),\n",
        "    transforms.ToTensor(),                        # Convert images to PyTorch tensors\n",
        "    transforms.Normalize(mean=[0.485, 0.456, 0.406], std=[0.229, 0.224, 0.225])  # Normalize pixel values\n",
        "])\n",
        "\n",
        "# Load datasets\n",
        "train_dataset = ImageFolder(train_dir, transform=transform)\n",
        "val_dataset = ImageFolder(val_dir, transform=transform)\n",
        "test_dataset = ImageFolder(test_dir, transform=transform)\n",
        "\n",
        "# Define batch size for DataLoader\n",
        "batch_size = 32\n",
        "\n",
        "# Create DataLoaders\n",
        "train_loader = DataLoader(train_dataset, batch_size=batch_size, shuffle=True)\n",
        "val_loader = DataLoader(val_dataset, batch_size=batch_size)\n",
        "test_loader = DataLoader(test_dataset, batch_size=batch_size)\n",
        "\n",
        "# Check the size of datasets\n",
        "print(\"Training dataset size:\", len(train_dataset))\n",
        "print(\"Validation dataset size:\", len(val_dataset))\n",
        "print(\"Test dataset size:\", len(test_dataset))\n"
      ],
      "metadata": {
        "colab": {
          "base_uri": "https://localhost:8080/"
        },
        "id": "JNPqfn_ulrcd",
        "outputId": "4a8c6a01-09e4-470c-cd63-c5f05c332c15"
      },
      "execution_count": 5,
      "outputs": [
        {
          "output_type": "stream",
          "name": "stdout",
          "text": [
            "Training dataset size: 4038\n",
            "Validation dataset size: 507\n",
            "Test dataset size: 505\n"
          ]
        }
      ]
    },
    {
      "cell_type": "code",
      "source": [
        "import torch\n",
        "import torchvision.models as models\n",
        "import torch.nn as nn\n",
        "\n",
        "# Load pre-trained ResNet model\n",
        "resnet = models.resnet18(pretrained=True)\n",
        "\n",
        "# Freeze all the parameters in the pre-trained model\n",
        "for param in resnet.parameters():\n",
        "    param.requires_grad = False\n",
        "\n",
        "# Modify the last fully connected layer to match the number of classes in your dataset\n",
        "num_classes = 3  # COVID, NORMAL, PNEUMONIA\n",
        "num_features = resnet.fc.in_features\n",
        "resnet.fc = nn.Linear(num_features, num_classes)\n",
        "\n",
        "# Define the loss function (criterion) and optimizer\n",
        "criterion = nn.CrossEntropyLoss()\n",
        "optimizer = torch.optim.Adam(resnet.parameters(), lr=0.001)\n",
        "\n",
        "# Move the model to GPU if available\n",
        "device = torch.device(\"cuda:0\" if torch.cuda.is_available() else \"cpu\")\n",
        "resnet.to(device)\n",
        "\n",
        "# Print the architecture of the modified ResNet model\n",
        "print(resnet)\n"
      ],
      "metadata": {
        "id": "CRGysOjTl1uR",
        "colab": {
          "base_uri": "https://localhost:8080/"
        },
        "outputId": "e8f58c79-4b41-468a-91e0-f180abcadae5"
      },
      "execution_count": 6,
      "outputs": [
        {
          "output_type": "stream",
          "name": "stderr",
          "text": [
            "/usr/local/lib/python3.10/dist-packages/torchvision/models/_utils.py:208: UserWarning: The parameter 'pretrained' is deprecated since 0.13 and may be removed in the future, please use 'weights' instead.\n",
            "  warnings.warn(\n",
            "/usr/local/lib/python3.10/dist-packages/torchvision/models/_utils.py:223: UserWarning: Arguments other than a weight enum or `None` for 'weights' are deprecated since 0.13 and may be removed in the future. The current behavior is equivalent to passing `weights=ResNet18_Weights.IMAGENET1K_V1`. You can also use `weights=ResNet18_Weights.DEFAULT` to get the most up-to-date weights.\n",
            "  warnings.warn(msg)\n",
            "Downloading: \"https://download.pytorch.org/models/resnet18-f37072fd.pth\" to /root/.cache/torch/hub/checkpoints/resnet18-f37072fd.pth\n",
            "100%|██████████| 44.7M/44.7M [00:00<00:00, 71.9MB/s]\n"
          ]
        },
        {
          "output_type": "stream",
          "name": "stdout",
          "text": [
            "ResNet(\n",
            "  (conv1): Conv2d(3, 64, kernel_size=(7, 7), stride=(2, 2), padding=(3, 3), bias=False)\n",
            "  (bn1): BatchNorm2d(64, eps=1e-05, momentum=0.1, affine=True, track_running_stats=True)\n",
            "  (relu): ReLU(inplace=True)\n",
            "  (maxpool): MaxPool2d(kernel_size=3, stride=2, padding=1, dilation=1, ceil_mode=False)\n",
            "  (layer1): Sequential(\n",
            "    (0): BasicBlock(\n",
            "      (conv1): Conv2d(64, 64, kernel_size=(3, 3), stride=(1, 1), padding=(1, 1), bias=False)\n",
            "      (bn1): BatchNorm2d(64, eps=1e-05, momentum=0.1, affine=True, track_running_stats=True)\n",
            "      (relu): ReLU(inplace=True)\n",
            "      (conv2): Conv2d(64, 64, kernel_size=(3, 3), stride=(1, 1), padding=(1, 1), bias=False)\n",
            "      (bn2): BatchNorm2d(64, eps=1e-05, momentum=0.1, affine=True, track_running_stats=True)\n",
            "    )\n",
            "    (1): BasicBlock(\n",
            "      (conv1): Conv2d(64, 64, kernel_size=(3, 3), stride=(1, 1), padding=(1, 1), bias=False)\n",
            "      (bn1): BatchNorm2d(64, eps=1e-05, momentum=0.1, affine=True, track_running_stats=True)\n",
            "      (relu): ReLU(inplace=True)\n",
            "      (conv2): Conv2d(64, 64, kernel_size=(3, 3), stride=(1, 1), padding=(1, 1), bias=False)\n",
            "      (bn2): BatchNorm2d(64, eps=1e-05, momentum=0.1, affine=True, track_running_stats=True)\n",
            "    )\n",
            "  )\n",
            "  (layer2): Sequential(\n",
            "    (0): BasicBlock(\n",
            "      (conv1): Conv2d(64, 128, kernel_size=(3, 3), stride=(2, 2), padding=(1, 1), bias=False)\n",
            "      (bn1): BatchNorm2d(128, eps=1e-05, momentum=0.1, affine=True, track_running_stats=True)\n",
            "      (relu): ReLU(inplace=True)\n",
            "      (conv2): Conv2d(128, 128, kernel_size=(3, 3), stride=(1, 1), padding=(1, 1), bias=False)\n",
            "      (bn2): BatchNorm2d(128, eps=1e-05, momentum=0.1, affine=True, track_running_stats=True)\n",
            "      (downsample): Sequential(\n",
            "        (0): Conv2d(64, 128, kernel_size=(1, 1), stride=(2, 2), bias=False)\n",
            "        (1): BatchNorm2d(128, eps=1e-05, momentum=0.1, affine=True, track_running_stats=True)\n",
            "      )\n",
            "    )\n",
            "    (1): BasicBlock(\n",
            "      (conv1): Conv2d(128, 128, kernel_size=(3, 3), stride=(1, 1), padding=(1, 1), bias=False)\n",
            "      (bn1): BatchNorm2d(128, eps=1e-05, momentum=0.1, affine=True, track_running_stats=True)\n",
            "      (relu): ReLU(inplace=True)\n",
            "      (conv2): Conv2d(128, 128, kernel_size=(3, 3), stride=(1, 1), padding=(1, 1), bias=False)\n",
            "      (bn2): BatchNorm2d(128, eps=1e-05, momentum=0.1, affine=True, track_running_stats=True)\n",
            "    )\n",
            "  )\n",
            "  (layer3): Sequential(\n",
            "    (0): BasicBlock(\n",
            "      (conv1): Conv2d(128, 256, kernel_size=(3, 3), stride=(2, 2), padding=(1, 1), bias=False)\n",
            "      (bn1): BatchNorm2d(256, eps=1e-05, momentum=0.1, affine=True, track_running_stats=True)\n",
            "      (relu): ReLU(inplace=True)\n",
            "      (conv2): Conv2d(256, 256, kernel_size=(3, 3), stride=(1, 1), padding=(1, 1), bias=False)\n",
            "      (bn2): BatchNorm2d(256, eps=1e-05, momentum=0.1, affine=True, track_running_stats=True)\n",
            "      (downsample): Sequential(\n",
            "        (0): Conv2d(128, 256, kernel_size=(1, 1), stride=(2, 2), bias=False)\n",
            "        (1): BatchNorm2d(256, eps=1e-05, momentum=0.1, affine=True, track_running_stats=True)\n",
            "      )\n",
            "    )\n",
            "    (1): BasicBlock(\n",
            "      (conv1): Conv2d(256, 256, kernel_size=(3, 3), stride=(1, 1), padding=(1, 1), bias=False)\n",
            "      (bn1): BatchNorm2d(256, eps=1e-05, momentum=0.1, affine=True, track_running_stats=True)\n",
            "      (relu): ReLU(inplace=True)\n",
            "      (conv2): Conv2d(256, 256, kernel_size=(3, 3), stride=(1, 1), padding=(1, 1), bias=False)\n",
            "      (bn2): BatchNorm2d(256, eps=1e-05, momentum=0.1, affine=True, track_running_stats=True)\n",
            "    )\n",
            "  )\n",
            "  (layer4): Sequential(\n",
            "    (0): BasicBlock(\n",
            "      (conv1): Conv2d(256, 512, kernel_size=(3, 3), stride=(2, 2), padding=(1, 1), bias=False)\n",
            "      (bn1): BatchNorm2d(512, eps=1e-05, momentum=0.1, affine=True, track_running_stats=True)\n",
            "      (relu): ReLU(inplace=True)\n",
            "      (conv2): Conv2d(512, 512, kernel_size=(3, 3), stride=(1, 1), padding=(1, 1), bias=False)\n",
            "      (bn2): BatchNorm2d(512, eps=1e-05, momentum=0.1, affine=True, track_running_stats=True)\n",
            "      (downsample): Sequential(\n",
            "        (0): Conv2d(256, 512, kernel_size=(1, 1), stride=(2, 2), bias=False)\n",
            "        (1): BatchNorm2d(512, eps=1e-05, momentum=0.1, affine=True, track_running_stats=True)\n",
            "      )\n",
            "    )\n",
            "    (1): BasicBlock(\n",
            "      (conv1): Conv2d(512, 512, kernel_size=(3, 3), stride=(1, 1), padding=(1, 1), bias=False)\n",
            "      (bn1): BatchNorm2d(512, eps=1e-05, momentum=0.1, affine=True, track_running_stats=True)\n",
            "      (relu): ReLU(inplace=True)\n",
            "      (conv2): Conv2d(512, 512, kernel_size=(3, 3), stride=(1, 1), padding=(1, 1), bias=False)\n",
            "      (bn2): BatchNorm2d(512, eps=1e-05, momentum=0.1, affine=True, track_running_stats=True)\n",
            "    )\n",
            "  )\n",
            "  (avgpool): AdaptiveAvgPool2d(output_size=(1, 1))\n",
            "  (fc): Linear(in_features=512, out_features=3, bias=True)\n",
            ")\n"
          ]
        }
      ]
    },
    {
      "cell_type": "code",
      "source": [
        "import torch\n",
        "import torch.nn as nn\n",
        "import torch.optim as optim\n",
        "from tqdm import tqdm\n",
        "\n",
        "# Define the number of epochs\n",
        "num_epochs = 5\n",
        "\n",
        "# Define early stopping parameters\n",
        "patience = 3\n",
        "early_stopping_counter = 0\n",
        "best_val_loss = float('inf')\n",
        "\n",
        "# Train the model\n",
        "for epoch in range(num_epochs):\n",
        "    # Set the model to train mode\n",
        "    resnet.train()\n",
        "\n",
        "    # Initialize variables for monitoring training\n",
        "    running_loss = 0.0\n",
        "    correct_predictions = 0\n",
        "    total_predictions = 0\n",
        "\n",
        "    # Iterate over the training dataset\n",
        "    for inputs, labels in tqdm(train_loader, desc=f'Epoch {epoch + 1}/{num_epochs}'):\n",
        "        inputs, labels = inputs.to(device), labels.to(device)\n",
        "\n",
        "        # Zero the parameter gradients\n",
        "        optimizer.zero_grad()\n",
        "\n",
        "        # Forward pass\n",
        "        outputs = resnet(inputs)\n",
        "        loss = criterion(outputs, labels)\n",
        "\n",
        "        # Backward pass and optimize\n",
        "        loss.backward()\n",
        "        optimizer.step()\n",
        "\n",
        "        # Compute training statistics\n",
        "        running_loss += loss.item() * inputs.size(0)\n",
        "        _, predicted = torch.max(outputs, 1)\n",
        "        total_predictions += labels.size(0)\n",
        "        correct_predictions += (predicted == labels).sum().item()\n",
        "\n",
        "    # Compute training loss and accuracy\n",
        "    epoch_loss = running_loss / len(train_dataset)\n",
        "    epoch_acc = correct_predictions / total_predictions\n",
        "\n",
        "    # Set the model to evaluation mode\n",
        "    resnet.eval()\n",
        "\n",
        "    # Initialize variables for monitoring validation\n",
        "    val_loss = 0.0\n",
        "    val_correct_predictions = 0\n",
        "    val_total_predictions = 0\n",
        "\n",
        "    # Iterate over the validation dataset\n",
        "    with torch.no_grad():\n",
        "        for inputs, labels in val_loader:\n",
        "            inputs, labels = inputs.to(device), labels.to(device)\n",
        "\n",
        "            # Forward pass\n",
        "            outputs = resnet(inputs)\n",
        "            loss = criterion(outputs, labels)\n",
        "\n",
        "            # Compute validation statistics\n",
        "            val_loss += loss.item() * inputs.size(0)\n",
        "            _, predicted = torch.max(outputs, 1)\n",
        "            val_total_predictions += labels.size(0)\n",
        "            val_correct_predictions += (predicted == labels).sum().item()\n",
        "\n",
        "    # Compute validation loss and accuracy\n",
        "    val_epoch_loss = val_loss / len(val_dataset)\n",
        "    val_epoch_acc = val_correct_predictions / val_total_predictions\n",
        "\n",
        "    # Print training and validation statistics\n",
        "    print(f\"Epoch {epoch + 1}/{num_epochs}, \"\n",
        "          f\"Train Loss: {epoch_loss:.4f}, Train Acc: {epoch_acc:.4f}, \"\n",
        "          f\"Val Loss: {val_epoch_loss:.4f}, Val Acc: {val_epoch_acc:.4f}\")\n",
        "\n",
        "    # Check for early stopping\n",
        "    if val_epoch_loss < best_val_loss:\n",
        "        best_val_loss = val_epoch_loss\n",
        "        early_stopping_counter = 0\n",
        "    else:\n",
        "        early_stopping_counter += 1\n",
        "        if early_stopping_counter >= patience:\n",
        "            print(\"Early stopping triggered.\")\n",
        "            break\n",
        "\n",
        "print(\"Training completed.\")\n"
      ],
      "metadata": {
        "colab": {
          "base_uri": "https://localhost:8080/"
        },
        "id": "UDxEavtOGQf6",
        "outputId": "51623579-04c6-4a9f-93a1-89a6597f88dd"
      },
      "execution_count": 7,
      "outputs": [
        {
          "output_type": "stream",
          "name": "stderr",
          "text": [
            "Epoch 1/5: 100%|██████████| 127/127 [00:45<00:00,  2.78it/s]\n"
          ]
        },
        {
          "output_type": "stream",
          "name": "stdout",
          "text": [
            "Epoch 1/5, Train Loss: 0.4442, Train Acc: 0.8494, Val Loss: 0.2717, Val Acc: 0.9112\n"
          ]
        },
        {
          "output_type": "stream",
          "name": "stderr",
          "text": [
            "Epoch 2/5: 100%|██████████| 127/127 [00:36<00:00,  3.47it/s]\n"
          ]
        },
        {
          "output_type": "stream",
          "name": "stdout",
          "text": [
            "Epoch 2/5, Train Loss: 0.2318, Train Acc: 0.9339, Val Loss: 0.2301, Val Acc: 0.9172\n"
          ]
        },
        {
          "output_type": "stream",
          "name": "stderr",
          "text": [
            "Epoch 3/5: 100%|██████████| 127/127 [00:35<00:00,  3.54it/s]\n"
          ]
        },
        {
          "output_type": "stream",
          "name": "stdout",
          "text": [
            "Epoch 3/5, Train Loss: 0.2061, Train Acc: 0.9321, Val Loss: 0.2090, Val Acc: 0.9250\n"
          ]
        },
        {
          "output_type": "stream",
          "name": "stderr",
          "text": [
            "Epoch 4/5: 100%|██████████| 127/127 [00:35<00:00,  3.58it/s]\n"
          ]
        },
        {
          "output_type": "stream",
          "name": "stdout",
          "text": [
            "Epoch 4/5, Train Loss: 0.1918, Train Acc: 0.9378, Val Loss: 0.2076, Val Acc: 0.9250\n"
          ]
        },
        {
          "output_type": "stream",
          "name": "stderr",
          "text": [
            "Epoch 5/5: 100%|██████████| 127/127 [00:34<00:00,  3.69it/s]\n"
          ]
        },
        {
          "output_type": "stream",
          "name": "stdout",
          "text": [
            "Epoch 5/5, Train Loss: 0.1704, Train Acc: 0.9430, Val Loss: 0.1888, Val Acc: 0.9428\n",
            "Training completed.\n"
          ]
        }
      ]
    },
    {
      "cell_type": "code",
      "source": [
        "import torch\n",
        "import torch.nn as nn\n",
        "import torch.optim as optim\n",
        "from tqdm import tqdm\n",
        "\n",
        "# Define hyperparameters to tune\n",
        "learning_rates = [0.001, 0.0001]  # Learning rates to experiment with\n",
        "batch_sizes = [16, 32, 64]         # Batch sizes to experiment with\n",
        "\n",
        "# Define the number of epochs\n",
        "num_epochs = 5\n",
        "\n",
        "# Initialize dictionary to store results\n",
        "results = {}\n",
        "\n",
        "# Perform hyperparameter tuning\n",
        "for lr in learning_rates:\n",
        "    for batch_size in batch_sizes:\n",
        "        # Load pre-trained ResNet model\n",
        "        resnet = models.resnet18(pretrained=True)\n",
        "        for param in resnet.parameters():\n",
        "            param.requires_grad = False\n",
        "        num_classes = 3\n",
        "        num_features = resnet.fc.in_features\n",
        "        resnet.fc = nn.Linear(num_features, num_classes)\n",
        "        resnet.to(device)\n",
        "\n",
        "        # Define the loss function and optimizer\n",
        "        criterion = nn.CrossEntropyLoss()\n",
        "        optimizer = optim.Adam(resnet.parameters(), lr=lr)\n",
        "\n",
        "        # Create DataLoaders with the specified batch size\n",
        "        train_loader = DataLoader(train_dataset, batch_size=batch_size, shuffle=True)\n",
        "        val_loader = DataLoader(val_dataset, batch_size=batch_size)\n",
        "\n",
        "        # Train the model\n",
        "        for epoch in range(num_epochs):\n",
        "            # Training phase\n",
        "            resnet.train()\n",
        "            for inputs, labels in train_loader:\n",
        "                inputs, labels = inputs.to(device), labels.to(device)\n",
        "                optimizer.zero_grad()\n",
        "                outputs = resnet(inputs)\n",
        "                loss = criterion(outputs, labels)\n",
        "                loss.backward()\n",
        "                optimizer.step()\n",
        "\n",
        "            # Validation phase\n",
        "            resnet.eval()\n",
        "            val_loss = 0.0\n",
        "            val_correct_predictions = 0\n",
        "            val_total_predictions = 0\n",
        "            with torch.no_grad():\n",
        "                for inputs, labels in val_loader:\n",
        "                    inputs, labels = inputs.to(device), labels.to(device)\n",
        "                    outputs = resnet(inputs)\n",
        "                    loss = criterion(outputs, labels)\n",
        "                    val_loss += loss.item() * inputs.size(0)\n",
        "                    _, predicted = torch.max(outputs, 1)\n",
        "                    val_total_predictions += labels.size(0)\n",
        "                    val_correct_predictions += (predicted == labels).sum().item()\n",
        "\n",
        "            # Compute validation loss and accuracy\n",
        "            val_epoch_loss = val_loss / len(val_dataset)\n",
        "            val_epoch_acc = val_correct_predictions / val_total_predictions\n",
        "\n",
        "            # Store results\n",
        "            results[(lr, batch_size)] = (val_epoch_loss, val_epoch_acc)\n",
        "\n",
        "            # Print progress\n",
        "            print(f\"LR: {lr}, Batch Size: {batch_size}, Epoch: {epoch + 1}/{num_epochs}, \"\n",
        "                  f\"Val Loss: {val_epoch_loss:.4f}, Val Acc: {val_epoch_acc:.4f}\")\n",
        "\n",
        "# Print results\n",
        "print(\"Hyperparameter tuning results:\")\n",
        "for (lr, batch_size), (val_loss, val_acc) in results.items():\n",
        "    print(f\"LR: {lr}, Batch Size: {batch_size}, Val Loss: {val_loss:.4f}, Val Acc: {val_acc:.4f}\")\n"
      ],
      "metadata": {
        "colab": {
          "base_uri": "https://localhost:8080/"
        },
        "id": "IRVX_zCBhYUS",
        "outputId": "2ea02fef-9654-41a9-97ea-2c014c9fd1c0"
      },
      "execution_count": 8,
      "outputs": [
        {
          "output_type": "stream",
          "name": "stdout",
          "text": [
            "LR: 0.001, Batch Size: 16, Epoch: 1/5, Val Loss: 0.2699, Val Acc: 0.9034\n",
            "LR: 0.001, Batch Size: 16, Epoch: 2/5, Val Loss: 0.2418, Val Acc: 0.9132\n",
            "LR: 0.001, Batch Size: 16, Epoch: 3/5, Val Loss: 0.2055, Val Acc: 0.9329\n",
            "LR: 0.001, Batch Size: 16, Epoch: 4/5, Val Loss: 0.2288, Val Acc: 0.9211\n",
            "LR: 0.001, Batch Size: 16, Epoch: 5/5, Val Loss: 0.1930, Val Acc: 0.9448\n",
            "LR: 0.001, Batch Size: 32, Epoch: 1/5, Val Loss: 0.2803, Val Acc: 0.9112\n",
            "LR: 0.001, Batch Size: 32, Epoch: 2/5, Val Loss: 0.2390, Val Acc: 0.9172\n",
            "LR: 0.001, Batch Size: 32, Epoch: 3/5, Val Loss: 0.2073, Val Acc: 0.9290\n",
            "LR: 0.001, Batch Size: 32, Epoch: 4/5, Val Loss: 0.2043, Val Acc: 0.9389\n",
            "LR: 0.001, Batch Size: 32, Epoch: 5/5, Val Loss: 0.2564, Val Acc: 0.9053\n",
            "LR: 0.001, Batch Size: 64, Epoch: 1/5, Val Loss: 0.3163, Val Acc: 0.9014\n",
            "LR: 0.001, Batch Size: 64, Epoch: 2/5, Val Loss: 0.2439, Val Acc: 0.9112\n",
            "LR: 0.001, Batch Size: 64, Epoch: 3/5, Val Loss: 0.2146, Val Acc: 0.9250\n",
            "LR: 0.001, Batch Size: 64, Epoch: 4/5, Val Loss: 0.2253, Val Acc: 0.9231\n",
            "LR: 0.001, Batch Size: 64, Epoch: 5/5, Val Loss: 0.2130, Val Acc: 0.9172\n",
            "LR: 0.0001, Batch Size: 16, Epoch: 1/5, Val Loss: 0.5942, Val Acc: 0.8323\n",
            "LR: 0.0001, Batch Size: 16, Epoch: 2/5, Val Loss: 0.4228, Val Acc: 0.8836\n",
            "LR: 0.0001, Batch Size: 16, Epoch: 3/5, Val Loss: 0.3620, Val Acc: 0.8915\n",
            "LR: 0.0001, Batch Size: 16, Epoch: 4/5, Val Loss: 0.3313, Val Acc: 0.8994\n",
            "LR: 0.0001, Batch Size: 16, Epoch: 5/5, Val Loss: 0.2935, Val Acc: 0.9034\n",
            "LR: 0.0001, Batch Size: 32, Epoch: 1/5, Val Loss: 0.6840, Val Acc: 0.8363\n",
            "LR: 0.0001, Batch Size: 32, Epoch: 2/5, Val Loss: 0.5035, Val Acc: 0.8836\n",
            "LR: 0.0001, Batch Size: 32, Epoch: 3/5, Val Loss: 0.4112, Val Acc: 0.9132\n",
            "LR: 0.0001, Batch Size: 32, Epoch: 4/5, Val Loss: 0.3665, Val Acc: 0.9073\n",
            "LR: 0.0001, Batch Size: 32, Epoch: 5/5, Val Loss: 0.3306, Val Acc: 0.9112\n",
            "LR: 0.0001, Batch Size: 64, Epoch: 1/5, Val Loss: 0.8303, Val Acc: 0.7140\n",
            "LR: 0.0001, Batch Size: 64, Epoch: 2/5, Val Loss: 0.6376, Val Acc: 0.8619\n",
            "LR: 0.0001, Batch Size: 64, Epoch: 3/5, Val Loss: 0.5311, Val Acc: 0.8836\n",
            "LR: 0.0001, Batch Size: 64, Epoch: 4/5, Val Loss: 0.4673, Val Acc: 0.8915\n",
            "LR: 0.0001, Batch Size: 64, Epoch: 5/5, Val Loss: 0.4070, Val Acc: 0.9073\n",
            "Hyperparameter tuning results:\n",
            "LR: 0.001, Batch Size: 16, Val Loss: 0.1930, Val Acc: 0.9448\n",
            "LR: 0.001, Batch Size: 32, Val Loss: 0.2564, Val Acc: 0.9053\n",
            "LR: 0.001, Batch Size: 64, Val Loss: 0.2130, Val Acc: 0.9172\n",
            "LR: 0.0001, Batch Size: 16, Val Loss: 0.2935, Val Acc: 0.9034\n",
            "LR: 0.0001, Batch Size: 32, Val Loss: 0.3306, Val Acc: 0.9112\n",
            "LR: 0.0001, Batch Size: 64, Val Loss: 0.4070, Val Acc: 0.9073\n"
          ]
        }
      ]
    },
    {
      "cell_type": "code",
      "source": [
        "from sklearn.metrics import classification_report, confusion_matrix\n",
        "import numpy as np\n",
        "\n",
        "# Compute classification report\n",
        "print(\"Classification Report:\")\n",
        "print(classification_report(val_targets, val_predictions, target_names=classes))\n",
        "\n",
        "# Compute overall metrics\n",
        "accuracy = accuracy_score(val_targets, val_predictions)\n",
        "precision_micro = precision_score(val_targets, val_predictions, average='micro')\n",
        "precision_macro = precision_score(val_targets, val_predictions, average='macro')\n",
        "recall_micro = recall_score(val_targets, val_predictions, average='micro')\n",
        "recall_macro = recall_score(val_targets, val_predictions, average='macro')\n",
        "f1_micro = f1_score(val_targets, val_predictions, average='micro')\n",
        "f1_macro = f1_score(val_targets, val_predictions, average='macro')\n",
        "\n",
        "print(f\"Overall Accuracy: {accuracy:.4f}\")\n",
        "print(f\"Micro-Averaged Precision: {precision_micro:.4f}\")\n",
        "print(f\"Macro-Averaged Precision: {precision_macro:.4f}\")\n",
        "print(f\"Micro-Averaged Recall: {recall_micro:.4f}\")\n",
        "print(f\"Macro-Averaged Recall: {recall_macro:.4f}\")\n",
        "print(f\"Micro-Averaged F1-score: {f1_micro:.4f}\")\n",
        "print(f\"Macro-Averaged F1-score: {f1_macro:.4f}\")\n",
        "\n",
        "# Plot confusion matrix\n",
        "cm = confusion_matrix(val_targets, val_predictions)\n",
        "plt.figure(figsize=(8, 6))\n",
        "sns.heatmap(cm, annot=True, fmt=\"d\", cmap=\"Blues\", cbar=False, xticklabels=classes, yticklabels=classes)\n",
        "plt.xlabel(\"Predicted labels\")\n",
        "plt.ylabel(\"True labels\")\n",
        "plt.title(\"Confusion Matrix\")\n",
        "plt.show()\n",
        "\n"
      ],
      "metadata": {
        "colab": {
          "base_uri": "https://localhost:8080/",
          "height": 876
        },
        "id": "nuVBYa4iAl85",
        "outputId": "5182c014-0b89-4314-ab49-68bc4581cee6"
      },
      "execution_count": 15,
      "outputs": [
        {
          "output_type": "stream",
          "name": "stdout",
          "text": [
            "Classification Report:\n",
            "              precision    recall  f1-score   support\n",
            "\n",
            "       COVID       0.95      0.97      0.96       163\n",
            "      NORMAL       0.90      0.90      0.90       181\n",
            "   PNEUMONIA       0.88      0.85      0.87       163\n",
            "\n",
            "    accuracy                           0.91       507\n",
            "   macro avg       0.91      0.91      0.91       507\n",
            "weighted avg       0.91      0.91      0.91       507\n",
            "\n",
            "Overall Accuracy: 0.9073\n",
            "Micro-Averaged Precision: 0.9073\n",
            "Macro-Averaged Precision: 0.9072\n",
            "Micro-Averaged Recall: 0.9073\n",
            "Macro-Averaged Recall: 0.9075\n",
            "Micro-Averaged F1-score: 0.9073\n",
            "Macro-Averaged F1-score: 0.9072\n"
          ]
        },
        {
          "output_type": "display_data",
          "data": {
            "text/plain": [
              "<Figure size 800x600 with 1 Axes>"
            ],
            "image/png": "[encoded data removed]"
          },
          "metadata": {}
        }
      ]
    },
    {
      "cell_type": "code",
      "source": [
        "# Evaluate the model on the test dataset\n",
        "test_predictions = []\n",
        "test_targets = []\n",
        "\n",
        "resnet.eval()\n",
        "with torch.no_grad():\n",
        "    for inputs, labels in test_loader:\n",
        "        inputs, labels = inputs.to(device), labels.to(device)\n",
        "        outputs = resnet(inputs)\n",
        "        _, predicted = torch.max(outputs, 1)\n",
        "        test_predictions.extend(predicted.cpu().numpy())\n",
        "        test_targets.extend(labels.cpu().numpy())\n",
        "\n",
        "# Calculate accuracy, precision, recall, and F1-score on the test dataset\n",
        "test_accuracy = accuracy_score(test_targets, test_predictions)\n",
        "test_precision = precision_score(test_targets, test_predictions, average='weighted')\n",
        "test_recall = recall_score(test_targets, test_predictions, average='weighted')\n",
        "test_f1 = f1_score(test_targets, test_predictions, average='weighted')\n",
        "\n",
        "print(\"Test Metrics:\")\n",
        "print(f\"Accuracy: {test_accuracy:.4f}\")\n",
        "print(f\"Precision: {test_precision:.4f}\")\n",
        "print(f\"Recall: {test_recall:.4f}\")\n",
        "print(f\"F1-score: {test_f1:.4f}\")\n",
        "\n",
        "# Plot confusion matrix for the test dataset\n",
        "test_cm = confusion_matrix(test_targets, test_predictions)\n",
        "plt.figure(figsize=(8, 6))\n",
        "sns.heatmap(test_cm, annot=True, fmt=\"d\", cmap=\"Blues\", cbar=False, xticklabels=classes, yticklabels=classes)\n",
        "plt.xlabel(\"Predicted labels\")\n",
        "plt.ylabel(\"True labels\")\n",
        "plt.title(\"Confusion Matrix - Test Dataset\")\n",
        "plt.show()\n"
      ],
      "metadata": {
        "colab": {
          "base_uri": "https://localhost:8080/",
          "height": 651
        },
        "id": "DipyLORIBiDz",
        "outputId": "b30c6eea-076a-48d9-aa88-dae448779948"
      },
      "execution_count": 18,
      "outputs": [
        {
          "output_type": "stream",
          "name": "stdout",
          "text": [
            "Test Metrics:\n",
            "Accuracy: 0.9050\n",
            "Precision: 0.9068\n",
            "Recall: 0.9050\n",
            "F1-score: 0.9056\n"
          ]
        },
        {
          "output_type": "display_data",
          "data": {
            "text/plain": [
              "<Figure size 800x600 with 1 Axes>"
            ],
            "image/png": "[encoded data removed]"
          },
          "metadata": {}
        }
      ]
    },
    {
      "cell_type": "code",
      "source": [
        "print(\"done by Gourav Singh (1209784)\")"
      ],
      "metadata": {
        "colab": {
          "base_uri": "https://localhost:8080/"
        },
        "id": "z357BJR2Cl-S",
        "outputId": "da1837e6-80b9-4429-f5e1-e200770987f7"
      },
      "execution_count": 19,
      "outputs": [
        {
          "output_type": "stream",
          "name": "stdout",
          "text": [
            "done by Gourav Singh (1209784)\n"
          ]
        }
      ]
    },
    {
      "cell_type": "code",
      "source": [],
      "metadata": {
        "id": "x4kAZoByIcEs"
      },
      "execution_count": null,
      "outputs": []
    }
  ]
}